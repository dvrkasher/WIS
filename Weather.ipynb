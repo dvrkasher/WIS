{
  "nbformat": 4,
  "nbformat_minor": 0,
  "metadata": {
    "colab": {
      "provenance": []
    },
    "kernelspec": {
      "name": "python3",
      "display_name": "Python 3"
    },
    "language_info": {
      "name": "python"
    }
  },
  "cells": [
    {
      "cell_type": "code",
      "metadata": {
        "id": "H4rBL_aORlDs"
      },
      "source": [
        "import requests\n",
        "import os\n",
        "from datetime import datetime"
      ],
      "execution_count": null,
      "outputs": []
    },
    {
      "cell_type": "code",
      "metadata": {
        "id": "AjIeD_IyRpJu"
      },
      "source": [
        "complete_api_link = \"https://api.openweathermap.org/data/2.5/weather?q=\"+location+\"&appid=\"+api_key\n",
        "api_link = requests.get(complete_api_link)\n",
        "api_data = api_link.json()"
      ],
      "execution_count": null,
      "outputs": []
    },
    {
      "cell_type": "code",
      "metadata": {
        "id": "LSfemuIvTE7z"
      },
      "source": [
        "if api_data['cod'] == '404':\n",
        "  print(\"Invalid City: {}, Please check your City name\".format(location))\n",
        "else:\n",
        "  temp_city = ((api_data['main']['temp'])- 273.15)\n",
        "  weather_desc = api_data['weather'][0]['description']\n",
        "  hmdt = api_data['main']['humidity']\n",
        "  wind_spd = api_data['wind']['speed']\n",
        "  date_time = datetime.now().strftime(\"%d %b %Y | %I:%M:%S %p\")"
      ],
      "execution_count": null,
      "outputs": []
    },
    {
      "cell_type": "code",
      "metadata": {
        "id": "eyCgDaf6VNij",
        "outputId": "b95d4497-0cff-4d6e-9799-deb74b199606",
        "colab": {
          "base_uri": "https://localhost:8080/"
        }
      },
      "source": [
        "print(\"------------------------------------------------------------------------------\")\n",
        "print(\"Weather Stats for - {}  || {}\".format(location.upper(), date_time))\n",
        "print(\"------------------------------------------------------------------------------\")"
      ],
      "execution_count": null,
      "outputs": [
        {
          "output_type": "stream",
          "name": "stdout",
          "text": [
            "------------------------------------------------------------------------------\n",
            "Weather Stats for - KURNOOL  || 04 Aug 2024 | 09:24:33 AM\n",
            "------------------------------------------------------------------------------\n"
          ]
        }
      ]
    },
    {
      "cell_type": "code",
      "metadata": {
        "id": "Npo0ocioVvQ0",
        "outputId": "845daa6d-9670-49e6-8fcf-2725ac816c9d",
        "colab": {
          "base_uri": "https://localhost:8080/"
        }
      },
      "source": [
        "print(\"Current temparature is: {:.2f} deg C\".format(temp_city))\n",
        "print(\"Current weather desc :\",weather_desc)\n",
        "print(\"Current humidity  :\",hmdt,'%')\n",
        "print(\"Current wind speed  :\",wind_spd ,'kmph')"
      ],
      "execution_count": null,
      "outputs": [
        {
          "output_type": "stream",
          "name": "stdout",
          "text": [
            "Current temparature is: 33.35 deg C\n",
            "Current weather desc : overcast clouds\n",
            "Current humidity  : 43 %\n",
            "Current wind speed  : 9.47 kmph\n"
          ]
        }
      ]
    }
  ]
}